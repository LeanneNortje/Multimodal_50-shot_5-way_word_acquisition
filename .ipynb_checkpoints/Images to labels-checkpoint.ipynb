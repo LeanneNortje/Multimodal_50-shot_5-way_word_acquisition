{
 "cells": [
  {
   "cell_type": "code",
   "execution_count": 1,
   "id": "6df7a84e",
   "metadata": {},
   "outputs": [],
   "source": [
    "import argparse\n",
    "import torch\n",
    "from models.setup import *\n",
    "from models.GeneralModels import *\n",
    "from tqdm import tqdm\n",
    "from pathlib import Path\n",
    "import matplotlib.pyplot as plt\n",
    "from PIL import Image\n",
    "from torchvision import transforms\n",
    "from torch.utils.data import Dataset\n",
    "import scipy\n",
    "import scipy.signal\n",
    "import librosa\n",
    "import matplotlib.pyplot as plt\n",
    "from matplotlib.gridspec import GridSpec"
   ]
  },
  {
   "cell_type": "code",
   "execution_count": 2,
   "id": "eaaf8c4f",
   "metadata": {},
   "outputs": [],
   "source": [
    "def modelSetup(parser, test=False):\n",
    "\n",
    "    config_file = parser.pop(\"config_file\")\n",
    "    print(f'configs/{config_library[config_file]}')\n",
    "    with open(f'configs/{config_library[config_file]}') as file:\n",
    "        args = json.load(file)\n",
    "\n",
    "    image_base = parser.pop(\"image_base\")\n",
    "\n",
    "    for key in parser:\n",
    "        args[key] = parser[key]\n",
    "\n",
    "    args[\"data_train\"] = Path(args[\"data_train\"])\n",
    "    args[\"data_val\"] = Path(args[\"data_val\"])\n",
    "    args[\"data_test\"] = Path(args[\"data_test\"])\n",
    "\n",
    "    getDevice(args)\n",
    "\n",
    "    return args, image_base"
   ]
  },
  {
   "cell_type": "code",
   "execution_count": 3,
   "id": "bc37fccf",
   "metadata": {},
   "outputs": [],
   "source": [
    "command_line_args = {\n",
    "    \"resume\": False, \n",
    "    \"config_file\": 'multilingual+matchmap',\n",
    "    \"device\": \"0\", \n",
    "    \"restore_epoch\": -1, \n",
    "    \"image_base\": \"..\"\n",
    "}"
   ]
  },
  {
   "cell_type": "code",
   "execution_count": 4,
   "id": "737c957e",
   "metadata": {},
   "outputs": [
    {
     "name": "stdout",
     "output_type": "stream",
     "text": [
      "configs/English_Hindi_matchmap_DAVEnet_config.json\n"
     ]
    }
   ],
   "source": [
    "args, image_base = modelSetup(command_line_args)"
   ]
  },
  {
   "cell_type": "code",
   "execution_count": 5,
   "id": "6e30f620",
   "metadata": {},
   "outputs": [],
   "source": [
    "image_labels = np.load(Path('data/gold_image_to_labels.npz'), allow_pickle=True)['image_labels'].item()\n",
    "labels_to_images = np.load(Path('data/gold_labels_to_images.npz'), allow_pickle=True)['labels_to_images'].item()"
   ]
  },
  {
   "cell_type": "code",
   "execution_count": 6,
   "id": "861d9245",
   "metadata": {},
   "outputs": [],
   "source": [
    "# key = np.load(Path('data/gold_label_key.npz'), allow_pickle=True)['key'].item()"
   ]
  },
  {
   "cell_type": "code",
   "execution_count": 7,
   "id": "4b876f83",
   "metadata": {},
   "outputs": [],
   "source": [
    "with open(args[\"data_train\"], 'r') as fp:\n",
    "    data = json.load(fp)\n",
    "image_base_path = Path(image_base).absolute()\n",
    "\n",
    "id_lookup = {}\n",
    "\n",
    "for fn in data:\n",
    "    data_point = np.load(fn + \".npz\")\n",
    "    ids = np.unique(image_labels[fn.split('/')[-1].split('+')[0]])\n",
    "    ids = list(ids)\n",
    "    print(ids)\n",
    "    for id in ids:\n",
    "        print(id)\n",
    "        if id not in id_lookup:\n",
    "            id_lookup[id] = []\n",
    "        id_lookup[id].append(fn)\n",
    "    break"
   ]
  },
  {
   "cell_type": "code",
   "execution_count": null,
   "id": "34423016",
   "metadata": {},
   "outputs": [],
   "source": []
  },
  {
   "cell_type": "code",
   "execution_count": 8,
   "id": "4f98a5fe",
   "metadata": {},
   "outputs": [
    {
     "name": "stderr",
     "output_type": "stream",
     "text": [
      "ID: 38: 100%|██████████| 33/33 [00:00<00:00, 165.47it/s]\n",
      "ID: 156: 100%|██████████| 33/33 [00:00<00:00, 559.69it/s]\n",
      "ID: 194: 100%|██████████| 33/33 [00:00<00:00, 123.91it/s]\n",
      "ID: 264: 100%|██████████| 33/33 [00:00<00:00, 194.20it/s]\n",
      "ID: 322: 100%|██████████| 33/33 [00:00<00:00, 267.77it/s]\n",
      "ID: 436: 100%|██████████| 33/33 [00:00<00:00, 67.20it/s]\n",
      "ID: 494: 100%|██████████| 33/33 [00:00<00:00, 471.33it/s]\n",
      "ID: 592: 100%|██████████| 33/33 [00:00<00:00, 567.52it/s]\n",
      "ID: 704: 100%|██████████| 33/33 [00:00<00:00, 154.43it/s]\n",
      "ID: 1077: 100%|██████████| 33/33 [00:00<00:00, 438.94it/s]\n",
      "ID: 1109: 100%|██████████| 33/33 [00:00<00:00, 99.90it/s]\n",
      "ID: 1284: 100%|██████████| 33/33 [00:00<00:00, 261.85it/s]\n",
      "ID: 1332: 100%|██████████| 33/33 [00:00<00:00, 126.07it/s]\n",
      "ID: 1419: 100%|██████████| 33/33 [00:00<00:00, 366.86it/s]\n",
      "ID: 1575: 100%|██████████| 33/33 [00:00<00:00, 115.43it/s]\n",
      "ID: 1635: 100%|██████████| 33/33 [00:00<00:00, 390.06it/s]\n",
      "ID: 2360: 100%|██████████| 33/33 [00:00<00:00, 467.23it/s]\n",
      "ID: 2370: 100%|██████████| 33/33 [00:00<00:00, 226.03it/s]\n",
      "ID: 2468: 100%|██████████| 33/33 [00:00<00:00, 568.22it/s]\n",
      "ID: 2593: 100%|██████████| 33/33 [00:00<00:00, 427.64it/s]\n",
      "ID: 2793: 100%|██████████| 33/33 [00:00<00:00, 241.31it/s]\n",
      "ID: 3027: 100%|██████████| 33/33 [00:00<00:00, 471.70it/s]\n",
      "ID: 3033: 100%|██████████| 33/33 [00:00<00:00, 278.83it/s]\n",
      "ID: 3124: 100%|██████████| 33/33 [00:00<00:00, 535.52it/s]\n",
      "ID: 3321: 100%|██████████| 33/33 [00:00<00:00, 550.27it/s]\n",
      "ID: 3379: 100%|██████████| 33/33 [00:00<00:00, 321.55it/s]\n",
      "ID: 3400: 100%|██████████| 33/33 [00:00<00:00, 143.77it/s]\n",
      "ID: 3421: 100%|██████████| 33/33 [00:00<00:00, 547.99it/s]\n",
      "ID: 3426: 100%|██████████| 33/33 [00:00<00:00, 407.63it/s]\n",
      "ID: 3602: 100%|██████████| 33/33 [00:00<00:00, 177.10it/s]\n",
      "ID: 3872: 100%|██████████| 33/33 [00:00<00:00, 267.50it/s]\n",
      "ID: 3901: 100%|██████████| 33/33 [00:00<00:00, 391.02it/s]\n",
      "ID: 4087: 100%|██████████| 33/33 [00:00<00:00, 84.07it/s]\n",
      "ID: 4194: 100%|██████████| 33/33 [00:00<00:00, 310.13it/s]\n"
     ]
    }
   ],
   "source": [
    "neg_id_lookup = {}\n",
    "for id in sorted(id_lookup):\n",
    "    images_with_id = id_lookup[id].copy()\n",
    "        \n",
    "    all_ids = list(id_lookup.keys())\n",
    "    all_ids.remove(id)\n",
    "    \n",
    "    neg_id_lookup[id] = {}\n",
    "    \n",
    "    for neg_id in tqdm(all_ids, desc=f'ID: {id}'):\n",
    "        temp = [i for i in id_lookup[neg_id] if i not in images_with_id]\n",
    "        if len(temp) > 0:\n",
    "            neg_id_lookup[id][neg_id] = temp"
   ]
  },
  {
   "cell_type": "code",
   "execution_count": 9,
   "id": "f68479f2",
   "metadata": {
    "scrolled": true
   },
   "outputs": [],
   "source": [
    "np.savez_compressed(\n",
    "    Path(\"./data/train_image_mask_lookup\"), \n",
    "    lookup=id_lookup,\n",
    "    neg_lookup=neg_id_lookup\n",
    ")"
   ]
  },
  {
   "cell_type": "code",
   "execution_count": 10,
   "id": "743621d1",
   "metadata": {},
   "outputs": [],
   "source": [
    "id_lookup = {}\n",
    "\n",
    "with open(args[\"data_val\"], 'r') as fp:\n",
    "    data = json.load(fp)\n",
    "image_base_path = Path(image_base).absolute()\n",
    "\n",
    "for fn in data:\n",
    "    data_point = np.load(fn + \".npz\")\n",
    "    ids = np.unique(image_labels[fn.split('/')[-1].split('+')[0]])\n",
    "    ids = list(ids)\n",
    "    for id in ids:\n",
    "        if id not in id_lookup:\n",
    "            id_lookup[id] = []\n",
    "        id_lookup[id].append(fn)"
   ]
  },
  {
   "cell_type": "code",
   "execution_count": 11,
   "id": "690c03da",
   "metadata": {},
   "outputs": [
    {
     "name": "stderr",
     "output_type": "stream",
     "text": [
      "ID: 38: 100%|██████████| 33/33 [00:00<00:00, 2224.13it/s]\n",
      "ID: 156: 100%|██████████| 33/33 [00:00<00:00, 7002.18it/s]\n",
      "ID: 194: 100%|██████████| 33/33 [00:00<00:00, 2366.71it/s]\n",
      "ID: 264: 100%|██████████| 33/33 [00:00<00:00, 2275.13it/s]\n",
      "ID: 322: 100%|██████████| 33/33 [00:00<00:00, 3685.97it/s]\n",
      "ID: 436: 100%|██████████| 33/33 [00:00<00:00, 1804.54it/s]\n",
      "ID: 494: 100%|██████████| 33/33 [00:00<00:00, 14067.69it/s]\n",
      "ID: 592: 100%|██████████| 33/33 [00:00<00:00, 24894.25it/s]\n",
      "ID: 704: 100%|██████████| 33/33 [00:00<00:00, 6221.32it/s]\n",
      "ID: 1077: 100%|██████████| 33/33 [00:00<00:00, 3702.74it/s]\n",
      "ID: 1109: 100%|██████████| 33/33 [00:00<00:00, 1745.36it/s]\n",
      "ID: 1284: 100%|██████████| 33/33 [00:00<00:00, 8551.34it/s]\n",
      "ID: 1332: 100%|██████████| 33/33 [00:00<00:00, 4951.24it/s]\n",
      "ID: 1419: 100%|██████████| 33/33 [00:00<00:00, 19688.77it/s]\n",
      "ID: 1575: 100%|██████████| 33/33 [00:00<00:00, 1594.42it/s]\n",
      "ID: 1635: 100%|██████████| 33/33 [00:00<00:00, 9970.61it/s]\n",
      "ID: 2360: 100%|██████████| 33/33 [00:00<00:00, 4740.46it/s]\n",
      "ID: 2370: 100%|██████████| 33/33 [00:00<00:00, 2545.37it/s]\n",
      "ID: 2468: 100%|██████████| 33/33 [00:00<00:00, 3453.22it/s]\n",
      "ID: 2593: 100%|██████████| 33/33 [00:00<00:00, 3928.25it/s]\n",
      "ID: 2793: 100%|██████████| 33/33 [00:00<00:00, 3541.76it/s]\n",
      "ID: 3027: 100%|██████████| 33/33 [00:00<00:00, 6515.04it/s]\n",
      "ID: 3033: 100%|██████████| 33/33 [00:00<00:00, 4651.88it/s]\n",
      "ID: 3124: 100%|██████████| 33/33 [00:00<00:00, 5951.67it/s]\n",
      "ID: 3321: 100%|██████████| 33/33 [00:00<00:00, 4649.07it/s]\n",
      "ID: 3379: 100%|██████████| 33/33 [00:00<00:00, 8751.39it/s]\n",
      "ID: 3400: 100%|██████████| 33/33 [00:00<00:00, 2993.21it/s]\n",
      "ID: 3421: 100%|██████████| 33/33 [00:00<00:00, 11298.94it/s]\n",
      "ID: 3426: 100%|██████████| 33/33 [00:00<00:00, 11503.66it/s]\n",
      "ID: 3602: 100%|██████████| 33/33 [00:00<00:00, 7317.19it/s]\n",
      "ID: 3872: 100%|██████████| 33/33 [00:00<00:00, 4447.83it/s]\n",
      "ID: 3901: 100%|██████████| 33/33 [00:00<00:00, 7400.92it/s]\n",
      "ID: 4087: 100%|██████████| 33/33 [00:00<00:00, 3195.03it/s]\n",
      "ID: 4194: 100%|██████████| 33/33 [00:00<00:00, 11972.32it/s]\n"
     ]
    }
   ],
   "source": [
    "neg_id_lookup = {}\n",
    "for id in sorted(id_lookup):\n",
    "    images_with_id = id_lookup[id].copy()\n",
    "        \n",
    "    all_ids = list(id_lookup.keys())\n",
    "    all_ids.remove(id)\n",
    "    \n",
    "    neg_id_lookup[id] = {}\n",
    "    \n",
    "    for neg_id in tqdm(all_ids, desc=f'ID: {id}'):\n",
    "        temp = [i for i in id_lookup[neg_id] if i not in images_with_id]\n",
    "        if len(temp) > 0:\n",
    "            neg_id_lookup[id][neg_id] = temp"
   ]
  },
  {
   "cell_type": "code",
   "execution_count": 12,
   "id": "7677a6af",
   "metadata": {},
   "outputs": [],
   "source": [
    "np.savez_compressed(\n",
    "    Path(\"./data/val_image_mask_lookup\"), \n",
    "    lookup=id_lookup,\n",
    "    neg_lookup=neg_id_lookup\n",
    ")"
   ]
  },
  {
   "cell_type": "code",
   "execution_count": 13,
   "id": "29ee6bc6",
   "metadata": {},
   "outputs": [],
   "source": [
    "id_lookup = {}\n",
    "\n",
    "with open(args[\"data_test\"], 'r') as fp:\n",
    "    data = json.load(fp)\n",
    "image_base_path = Path(image_base).absolute()\n",
    "\n",
    "for fn in data:\n",
    "    data_point = np.load(fn + \".npz\")\n",
    "    ids = np.unique(image_labels[fn.split('/')[-1].split('+')[0]])\n",
    "    ids = list(ids)\n",
    "    for id in ids:\n",
    "        if id not in id_lookup:\n",
    "            id_lookup[id] = []\n",
    "        id_lookup[id].append(fn)"
   ]
  },
  {
   "cell_type": "code",
   "execution_count": 14,
   "id": "b045e2bf",
   "metadata": {},
   "outputs": [
    {
     "name": "stderr",
     "output_type": "stream",
     "text": [
      "ID: 38: 100%|██████████| 33/33 [00:00<00:00, 7373.72it/s]\n",
      "ID: 156: 100%|██████████| 33/33 [00:00<00:00, 8189.58it/s]\n",
      "ID: 194: 100%|██████████| 33/33 [00:00<00:00, 4433.73it/s]\n",
      "ID: 264: 100%|██████████| 33/33 [00:00<00:00, 6518.72it/s]\n",
      "ID: 322: 100%|██████████| 33/33 [00:00<00:00, 10583.58it/s]\n",
      "ID: 436: 100%|██████████| 33/33 [00:00<00:00, 2458.87it/s]\n",
      "ID: 494: 100%|██████████| 33/33 [00:00<00:00, 4149.29it/s]\n",
      "ID: 592: 100%|██████████| 33/33 [00:00<00:00, 4037.69it/s]\n",
      "ID: 704: 100%|██████████| 33/33 [00:00<00:00, 3601.67it/s]\n",
      "ID: 1077: 100%|██████████| 33/33 [00:00<00:00, 5081.21it/s]\n",
      "ID: 1109: 100%|██████████| 33/33 [00:00<00:00, 3104.31it/s]\n",
      "ID: 1284: 100%|██████████| 33/33 [00:00<00:00, 4564.74it/s]\n",
      "ID: 1332: 100%|██████████| 33/33 [00:00<00:00, 2250.05it/s]\n",
      "ID: 1419: 100%|██████████| 33/33 [00:00<00:00, 7038.50it/s]\n",
      "ID: 1575: 100%|██████████| 33/33 [00:00<00:00, 2614.95it/s]\n",
      "ID: 1635: 100%|██████████| 33/33 [00:00<00:00, 7460.36it/s]\n",
      "ID: 2360: 100%|██████████| 33/33 [00:00<00:00, 3369.41it/s]\n",
      "ID: 2370: 100%|██████████| 33/33 [00:00<00:00, 2671.74it/s]\n",
      "ID: 2468: 100%|██████████| 33/33 [00:00<00:00, 4527.56it/s]\n",
      "ID: 2593: 100%|██████████| 33/33 [00:00<00:00, 5626.73it/s]\n",
      "ID: 2793: 100%|██████████| 33/33 [00:00<00:00, 3061.20it/s]\n",
      "ID: 3027: 100%|██████████| 33/33 [00:00<00:00, 7058.24it/s]\n",
      "ID: 3033: 100%|██████████| 33/33 [00:00<00:00, 3745.83it/s]\n",
      "ID: 3124: 100%|██████████| 33/33 [00:00<00:00, 6529.18it/s]\n",
      "ID: 3321: 100%|██████████| 33/33 [00:00<00:00, 4982.79it/s]\n",
      "ID: 3379: 100%|██████████| 33/33 [00:00<00:00, 12321.91it/s]\n",
      "ID: 3400: 100%|██████████| 33/33 [00:00<00:00, 5614.86it/s]\n",
      "ID: 3421: 100%|██████████| 33/33 [00:00<00:00, 17410.32it/s]\n",
      "ID: 3426: 100%|██████████| 33/33 [00:00<00:00, 4287.72it/s]\n",
      "ID: 3602: 100%|██████████| 33/33 [00:00<00:00, 2978.52it/s]\n",
      "ID: 3872: 100%|██████████| 33/33 [00:00<00:00, 6369.04it/s]\n",
      "ID: 3901: 100%|██████████| 33/33 [00:00<00:00, 7103.15it/s]\n",
      "ID: 4087: 100%|██████████| 33/33 [00:00<00:00, 1624.12it/s]\n",
      "ID: 4194: 100%|██████████| 33/33 [00:00<00:00, 7705.40it/s]\n"
     ]
    }
   ],
   "source": [
    "neg_id_lookup = {}\n",
    "for id in sorted(id_lookup):\n",
    "    images_with_id = id_lookup[id].copy()\n",
    "        \n",
    "    all_ids = list(id_lookup.keys())\n",
    "    all_ids.remove(id)\n",
    "    \n",
    "    neg_id_lookup[id] = {}\n",
    "    \n",
    "    for neg_id in tqdm(all_ids, desc=f'ID: {id}'):\n",
    "        temp = [i for i in id_lookup[neg_id] if i not in images_with_id]\n",
    "        if len(temp) > 0:\n",
    "            neg_id_lookup[id][neg_id] = temp"
   ]
  },
  {
   "cell_type": "code",
   "execution_count": 15,
   "id": "672b9f35",
   "metadata": {},
   "outputs": [],
   "source": [
    "np.savez_compressed(\n",
    "    Path(\"./data/test_image_mask_lookup\"), \n",
    "    lookup=id_lookup,\n",
    "    neg_lookup=neg_id_lookup\n",
    ")"
   ]
  },
  {
   "cell_type": "code",
   "execution_count": null,
   "id": "12ee3fc2",
   "metadata": {},
   "outputs": [],
   "source": []
  }
 ],
 "metadata": {
  "kernelspec": {
   "display_name": "Python 3",
   "language": "python",
   "name": "python3"
  },
  "language_info": {
   "codemirror_mode": {
    "name": "ipython",
    "version": 3
   },
   "file_extension": ".py",
   "mimetype": "text/x-python",
   "name": "python",
   "nbconvert_exporter": "python",
   "pygments_lexer": "ipython3",
   "version": "3.8.13"
  }
 },
 "nbformat": 4,
 "nbformat_minor": 5
}
